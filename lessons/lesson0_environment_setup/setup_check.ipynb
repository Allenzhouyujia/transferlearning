{
  "cells": [
    {
      "cell_type": "raw",
      "metadata": {
        "vscode": {
          "languageId": "raw"
        }
      },
      "source": [
        "# 🎓 Lesson 0: Environment Setup & Configuration\n",
        "\n",
        "## Welcome to Deep Learning!\n",
        "\n",
        "This notebook will verify your environment setup and ensure everything is working correctly.\n",
        "\n",
        "**What we'll check:**\n",
        "- ✅ Python environment and packages\n",
        "- ✅ PyTorch installation and hardware acceleration\n",
        "- ✅ Data science libraries (NumPy, Matplotlib, etc.)\n",
        "- ✅ Functional tests for deep learning operations\n",
        "- ✅ Visualization capabilities\n",
        "\n",
        "Let's get started! 🚀\n"
      ]
    },
    {
      "cell_type": "raw",
      "metadata": {
        "vscode": {
          "languageId": "code"
        }
      },
      "source": [
        "# Import essential libraries\n",
        "import sys\n",
        "import os\n",
        "import platform\n",
        "from datetime import datetime\n",
        "\n",
        "# Deep Learning libraries\n",
        "import torch\n",
        "import torch.nn as nn\n",
        "import torchvision\n",
        "import torchvision.transforms as transforms\n",
        "\n",
        "# Data science libraries\n",
        "import numpy as np\n",
        "import pandas as pd\n",
        "import matplotlib.pyplot as plt\n",
        "import seaborn as sns\n",
        "\n",
        "# Utility libraries\n",
        "from tqdm import tqdm\n",
        "import warnings\n",
        "warnings.filterwarnings('ignore')\n",
        "\n",
        "print(\"🎉 Libraries imported successfully!\")\n",
        "print(f\"📅 Setup check started: {datetime.now().strftime('%Y-%m-%d %H:%M:%S')}\")\n",
        "print(\"=\" * 50)\n"
      ]
    },
    {
      "cell_type": "raw",
      "metadata": {
        "vscode": {
          "languageId": "raw"
        }
      },
      "source": [
        "## 🖥️ System & Hardware Check\n",
        "\n",
        "Let's check your system configuration and available hardware acceleration.\n"
      ]
    },
    {
      "cell_type": "raw",
      "metadata": {
        "vscode": {
          "languageId": "code"
        }
      },
      "source": [
        "# System Information\n",
        "print(\"🖥️ SYSTEM INFORMATION\")\n",
        "print(\"=\" * 50)\n",
        "print(f\"System: {platform.system()}\")\n",
        "print(f\"Python Version: {sys.version.split()[0]}\")\n",
        "print(f\"PyTorch Version: {torch.__version__}\")\n",
        "\n",
        "# Virtual Environment Check\n",
        "venv = os.environ.get('VIRTUAL_ENV')\n",
        "if venv:\n",
        "    print(f\"✅ Virtual Environment: {os.path.basename(venv)}\")\n",
        "else:\n",
        "    print(\"⚠️  Not in virtual environment\")\n",
        "\n",
        "print(\"\\n🎮 HARDWARE ACCELERATION\")\n",
        "print(\"=\" * 50)\n",
        "\n",
        "# Check CUDA\n",
        "if torch.cuda.is_available():\n",
        "    print(f\"✅ CUDA Available: {torch.cuda.get_device_name(0)}\")\n",
        "    print(f\"   GPU Memory: {torch.cuda.get_device_properties(0).total_memory / 1024**3:.1f} GB\")\n",
        "    device = torch.device(\"cuda\")\n",
        "else:\n",
        "    print(\"❌ CUDA not available\")\n",
        "\n",
        "# Check MPS (Apple Silicon)\n",
        "if torch.backends.mps.is_available():\n",
        "    print(\"✅ MPS (Apple Silicon) Available\")\n",
        "    device = torch.device(\"mps\") if not torch.cuda.is_available() else device\n",
        "else:\n",
        "    print(\"❌ MPS not available\")\n",
        "\n",
        "# Set device\n",
        "if not torch.cuda.is_available() and not torch.backends.mps.is_available():\n",
        "    device = torch.device(\"cpu\")\n",
        "\n",
        "print(f\"\\n🚀 Using device: {device}\")\n",
        "print(\"=\" * 50)\n"
      ]
    },
    {
      "cell_type": "raw",
      "metadata": {
        "vscode": {
          "languageId": "raw"
        }
      },
      "source": [
        "## 🧪 Functional Tests\n",
        "\n",
        "Let's run some basic tests to ensure everything is working correctly.\n"
      ]
    },
    {
      "cell_type": "raw",
      "metadata": {
        "vscode": {
          "languageId": "code"
        }
      },
      "source": [
        "print(\"🧪 RUNNING FUNCTIONAL TESTS\")\n",
        "print(\"=\" * 50)\n",
        "\n",
        "tests_passed = 0\n",
        "total_tests = 0\n",
        "\n",
        "# Test 1: Basic tensor operations\n",
        "total_tests += 1\n",
        "try:\n",
        "    x = torch.randn(3, 3, device=device)\n",
        "    y = torch.randn(3, 3, device=device)\n",
        "    z = torch.mm(x, y)\n",
        "    assert z.shape == (3, 3)\n",
        "    print(\"✅ Test 1: Basic tensor operations - PASSED\")\n",
        "    tests_passed += 1\n",
        "except Exception as e:\n",
        "    print(f\"❌ Test 1: Basic tensor operations - FAILED: {e}\")\n",
        "\n",
        "# Test 2: Neural network\n",
        "total_tests += 1\n",
        "try:\n",
        "    model = nn.Linear(10, 5).to(device)\n",
        "    input_tensor = torch.randn(2, 10, device=device)\n",
        "    output = model(input_tensor)\n",
        "    assert output.shape == (2, 5)\n",
        "    print(\"✅ Test 2: Neural network - PASSED\")\n",
        "    tests_passed += 1\n",
        "except Exception as e:\n",
        "    print(f\"❌ Test 2: Neural network - FAILED: {e}\")\n",
        "\n",
        "# Test 3: Data visualization\n",
        "total_tests += 1\n",
        "try:\n",
        "    plt.figure(figsize=(8, 6))\n",
        "    x = np.linspace(0, 10, 100)\n",
        "    y = np.sin(x)\n",
        "    plt.plot(x, y, 'b-', linewidth=2)\n",
        "    plt.title('📈 Test Plot: Sine Wave')\n",
        "    plt.xlabel('X')\n",
        "    plt.ylabel('Y')\n",
        "    plt.grid(True, alpha=0.3)\n",
        "    plt.show()\n",
        "    print(\"✅ Test 3: Data visualization - PASSED\")\n",
        "    tests_passed += 1\n",
        "except Exception as e:\n",
        "    print(f\"❌ Test 3: Data visualization - FAILED: {e}\")\n",
        "\n",
        "# Test 4: Package versions\n",
        "total_tests += 1\n",
        "try:\n",
        "    versions = {\n",
        "        'torch': torch.__version__,\n",
        "        'torchvision': torchvision.__version__,\n",
        "        'numpy': np.__version__,\n",
        "        'pandas': pd.__version__,\n",
        "        'matplotlib': plt.matplotlib.__version__,\n",
        "        'seaborn': sns.__version__\n",
        "    }\n",
        "    print(\"✅ Test 4: Package versions - PASSED\")\n",
        "    print(\"   📦 Installed versions:\")\n",
        "    for pkg, version in versions.items():\n",
        "        print(f\"      {pkg}: {version}\")\n",
        "    tests_passed += 1\n",
        "except Exception as e:\n",
        "    print(f\"❌ Test 4: Package versions - FAILED: {e}\")\n",
        "\n",
        "print(f\"\\n📊 Test Results: {tests_passed}/{total_tests} tests passed\")\n",
        "success_rate = (tests_passed / total_tests) * 100\n",
        "print(f\"🎯 Success Rate: {success_rate:.1f}%\")\n",
        "print(\"=\" * 50)\n"
      ]
    },
    {
      "cell_type": "raw",
      "metadata": {
        "vscode": {
          "languageId": "raw"
        }
      },
      "source": [
        "## 🎉 Summary & Next Steps\n",
        "\n",
        "Great job! Let's summarize your environment setup status.\n"
      ]
    },
    {
      "cell_type": "raw",
      "metadata": {
        "vscode": {
          "languageId": "code"
        }
      },
      "source": [
        "print(\"🎉 ENVIRONMENT SETUP SUMMARY\")\n",
        "print(\"=\" * 50)\n",
        "\n",
        "# Environment status\n",
        "if os.environ.get('VIRTUAL_ENV'):\n",
        "    print(\"✅ Virtual Environment: Active\")\n",
        "else:\n",
        "    print(\"⚠️  Virtual Environment: Not active\")\n",
        "\n",
        "# Hardware status\n",
        "if torch.cuda.is_available():\n",
        "    print(f\"✅ Hardware: CUDA GPU ({torch.cuda.get_device_name(0)})\")\n",
        "elif torch.backends.mps.is_available():\n",
        "    print(\"✅ Hardware: Apple Silicon GPU (MPS)\")\n",
        "else:\n",
        "    print(\"✅ Hardware: CPU only\")\n",
        "\n",
        "# Test results\n",
        "if tests_passed == total_tests:\n",
        "    print(f\"✅ All {total_tests} tests passed!\")\n",
        "else:\n",
        "    print(f\"⚠️  {tests_passed}/{total_tests} tests passed\")\n",
        "\n",
        "print(f\"\\n🎯 Your environment is {'ready' if tests_passed == total_tests else 'partially ready'} for deep learning!\")\n",
        "\n",
        "# Next steps\n",
        "print(\"\\n📚 NEXT STEPS:\")\n",
        "print(\"1. 📊 Lesson 2: CIFAR-10 Data Exploration\")\n",
        "print(\"2. 🧠 Lesson 3: Build your first CNN\")\n",
        "print(\"3. 🚀 Advanced architectures (ResNet, EfficientNet, etc.)\")\n",
        "\n",
        "print(\"\\n💡 TIPS:\")\n",
        "if not os.environ.get('VIRTUAL_ENV'):\n",
        "    print(\"- Consider using a virtual environment for better dependency management\")\n",
        "if not torch.cuda.is_available() and not torch.backends.mps.is_available():\n",
        "    print(\"- Consider using GPU acceleration for faster training\")\n",
        "print(\"- Keep your packages updated for the best performance\")\n",
        "\n",
        "print(\"\\n🎓 Happy Learning!\")\n",
        "print(\"=\" * 50)\n"
      ]
    }
  ],
  "metadata": {
    "kernelspec": {
      "display_name": "dl_course_env",
      "language": "python",
      "name": "python3"
    },
    "language_info": {
      "name": "python",
      "version": "3.9.0"
    }
  },
  "nbformat": 4,
  "nbformat_minor": 2
}
